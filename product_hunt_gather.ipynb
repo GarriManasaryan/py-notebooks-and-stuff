{
 "cells": [
  {
   "cell_type": "code",
   "execution_count": 1,
   "id": "fb6f106e",
   "metadata": {},
   "outputs": [],
   "source": [
    "from bs4 import BeautifulSoup"
   ]
  },
  {
   "cell_type": "code",
   "execution_count": 2,
   "id": "b9fab3d5",
   "metadata": {},
   "outputs": [],
   "source": [
    "# Load the HTML file\n",
    "with open(\"product_hunt.html\", \"r\", encoding=\"utf-8\") as f:\n",
    "    html = f.read()\n",
    "\n",
    "# Parse the HTML with BeautifulSoup\n",
    "soup = BeautifulSoup(html, \"html.parser\")"
   ]
  },
  {
   "cell_type": "code",
   "execution_count": 3,
   "id": "2e9adb12",
   "metadata": {},
   "outputs": [],
   "source": [
    "results = soup.find_all('div', class_='flex flex-row items-start justify-between gap-3 sm:gap-6')"
   ]
  },
  {
   "cell_type": "code",
   "execution_count": 4,
   "id": "b3a459c4",
   "metadata": {},
   "outputs": [
    {
     "data": {
      "text/plain": [
       "'Docksy — Stop losing business documents, start talking to them!'"
      ]
     },
     "execution_count": 4,
     "metadata": {},
     "output_type": "execute_result"
    }
   ],
   "source": [
    "import re\n",
    "title = results[0].find('div', class_='text-14 sm:text-16 md:text-16 font-semibold text-dark-gray styles_noOfLines-3__giMdl').text.replace('\\n', '').replace('\\t', '')\n",
    "title_fin = ' '.join(title.split())\n",
    "title_fin"
   ]
  },
  {
   "cell_type": "code",
   "execution_count": 5,
   "id": "33465555",
   "metadata": {},
   "outputs": [
    {
     "data": {
      "text/plain": [
       "'+13'"
      ]
     },
     "execution_count": 5,
     "metadata": {},
     "output_type": "execute_result"
    }
   ],
   "source": [
    "votes = results[0].find('div', class_='text-12 font-normal text-light-gray').text.replace('\\n', '').replace('\\t', '')\n",
    "votes\n"
   ]
  },
  {
   "cell_type": "code",
   "execution_count": 6,
   "id": "9528fdaa",
   "metadata": {},
   "outputs": [
    {
     "data": {
      "text/plain": [
       "'https://www.producthunt.com/products/products/docksy'"
      ]
     },
     "execution_count": 6,
     "metadata": {},
     "output_type": "execute_result"
    }
   ],
   "source": [
    "link = results[0].find('a')['href']\n",
    "link = f'https://www.producthunt.com/products{link}'\n",
    "link"
   ]
  },
  {
   "cell_type": "code",
   "execution_count": 11,
   "id": "21d5f0aa",
   "metadata": {},
   "outputs": [],
   "source": [
    "final = []\n",
    "for product in results:\n",
    "    votes = 0\n",
    "    title_fin = None\n",
    "    link = None\n",
    "\n",
    "    try:\n",
    "        title = product.find('div', class_='text-14 sm:text-16 md:text-16 font-semibold text-dark-gray styles_noOfLines-3__giMdl').text.replace('\\n', '').replace('\\t', '')\n",
    "        title_fin = ' '.join(title.split())\n",
    "    except:\n",
    "        pass\n",
    "    \n",
    "    try:\n",
    "        votes = product.find('div', class_='text-12 font-normal text-light-gray').text.replace('\\n', '').replace('\\t', '')\n",
    "        votes = int(votes.replace(',', '').replace('+', ''))\n",
    "    except:\n",
    "        pass\n",
    "\n",
    "    try:\n",
    "        link = product.find('a')['href']\n",
    "        link = f'https://www.producthunt.com{link}'\n",
    "    except:\n",
    "        pass\n",
    "\n",
    "    final.append(\n",
    "        {\n",
    "            'title': title_fin,\n",
    "            'votes': votes,\n",
    "            'link': link,\n",
    "        }\n",
    "    )"
   ]
  },
  {
   "cell_type": "code",
   "execution_count": 12,
   "id": "e1524a91",
   "metadata": {},
   "outputs": [],
   "source": [
    "import pandas as pd\n",
    "df_final = pd.DataFrame(final).sort_values('votes', ascending=False)"
   ]
  },
  {
   "cell_type": "code",
   "execution_count": 14,
   "id": "44dd1c4c",
   "metadata": {},
   "outputs": [],
   "source": [
    "df_final.to_csv('top_voted_product_hunts.csv', index=False)"
   ]
  },
  {
   "cell_type": "code",
   "execution_count": null,
   "id": "d97aa21e",
   "metadata": {},
   "outputs": [],
   "source": []
  }
 ],
 "metadata": {
  "kernelspec": {
   "display_name": "venv",
   "language": "python",
   "name": "python3"
  },
  "language_info": {
   "codemirror_mode": {
    "name": "ipython",
    "version": 3
   },
   "file_extension": ".py",
   "mimetype": "text/x-python",
   "name": "python",
   "nbconvert_exporter": "python",
   "pygments_lexer": "ipython3",
   "version": "3.10.18"
  }
 },
 "nbformat": 4,
 "nbformat_minor": 5
}
