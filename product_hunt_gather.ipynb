{
 "cells": [
  {
   "cell_type": "code",
   "execution_count": 1,
   "id": "fb6f106e",
   "metadata": {},
   "outputs": [],
   "source": [
    "from bs4 import BeautifulSoup"
   ]
  },
  {
   "cell_type": "code",
   "execution_count": 2,
   "id": "b9fab3d5",
   "metadata": {},
   "outputs": [],
   "source": [
    "# Load the HTML file\n",
    "with open(\"product_hunt.html\", \"r\", encoding=\"utf-8\") as f:\n",
    "    html = f.read()\n",
    "\n",
    "# Parse the HTML with BeautifulSoup\n",
    "soup = BeautifulSoup(html, \"html.parser\")"
   ]
  },
  {
   "cell_type": "code",
   "execution_count": 3,
   "id": "2e9adb12",
   "metadata": {},
   "outputs": [],
   "source": [
    "results = soup.find_all('div', class_='flex flex-row items-start justify-between gap-3 sm:gap-6')"
   ]
  },
  {
   "cell_type": "code",
   "execution_count": 21,
   "id": "b3a459c4",
   "metadata": {},
   "outputs": [
    {
     "data": {
      "text/plain": [
       "'Docksy — Stop losing business documents, start talking to them!'"
      ]
     },
     "execution_count": 21,
     "metadata": {},
     "output_type": "execute_result"
    }
   ],
   "source": [
    "import re\n",
    "title = results[0].find('div', class_='text-14 sm:text-16 md:text-16 font-semibold text-dark-gray styles_noOfLines-3__giMdl').text.replace('\\n', '').replace('\\t', '')\n",
    "title_fin = ' '.join(title.split())\n",
    "title_fin"
   ]
  },
  {
   "cell_type": "code",
   "execution_count": 22,
   "id": "33465555",
   "metadata": {},
   "outputs": [
    {
     "data": {
      "text/plain": [
       "'+13'"
      ]
     },
     "execution_count": 22,
     "metadata": {},
     "output_type": "execute_result"
    }
   ],
   "source": [
    "votes = results[0].find('div', class_='text-12 font-normal text-light-gray').text.replace('\\n', '').replace('\\t', '')\n",
    "votes\n"
   ]
  },
  {
   "cell_type": "code",
   "execution_count": 31,
   "id": "9528fdaa",
   "metadata": {},
   "outputs": [
    {
     "data": {
      "text/plain": [
       "'https://www.producthunt.com/products/products/docksy'"
      ]
     },
     "execution_count": 31,
     "metadata": {},
     "output_type": "execute_result"
    }
   ],
   "source": [
    "link = results[0].find('a')['href']\n",
    "link = f'https://www.producthunt.com/products{link}'\n",
    "link"
   ]
  },
  {
   "cell_type": "code",
   "execution_count": 36,
   "id": "21d5f0aa",
   "metadata": {},
   "outputs": [],
   "source": [
    "final = []\n",
    "for product in results:\n",
    "    votes = 0\n",
    "    title_fin = None\n",
    "    link = None\n",
    "\n",
    "    try:\n",
    "        title = product.find('div', class_='text-14 sm:text-16 md:text-16 font-semibold text-dark-gray styles_noOfLines-3__giMdl').text.replace('\\n', '').replace('\\t', '')\n",
    "        title_fin = ' '.join(title.split())\n",
    "    except:\n",
    "        pass\n",
    "    \n",
    "    try:\n",
    "        votes = product.find('div', class_='text-12 font-normal text-light-gray').text.replace('\\n', '').replace('\\t', '')\n",
    "        votes = int(votes.replace(',', '').replace('+', ''))\n",
    "    except:\n",
    "        pass\n",
    "\n",
    "    try:\n",
    "        link = product.find('a')['href']\n",
    "        link = f'https://www.producthunt.com/products{link}'\n",
    "    except:\n",
    "        pass\n",
    "\n",
    "    final.append(\n",
    "        {\n",
    "            'title': title_fin,\n",
    "            'votes': votes,\n",
    "            'link': link,\n",
    "        }\n",
    "    )"
   ]
  },
  {
   "cell_type": "code",
   "execution_count": 42,
   "id": "e1524a91",
   "metadata": {},
   "outputs": [],
   "source": [
    "import pandas as pd\n",
    "df_final = pd.DataFrame(final).sort_values('votes', ascending=False)"
   ]
  },
  {
   "cell_type": "code",
   "execution_count": 43,
   "id": "44dd1c4c",
   "metadata": {},
   "outputs": [
    {
     "data": {
      "text/html": [
       "<div>\n",
       "<style scoped>\n",
       "    .dataframe tbody tr th:only-of-type {\n",
       "        vertical-align: middle;\n",
       "    }\n",
       "\n",
       "    .dataframe tbody tr th {\n",
       "        vertical-align: top;\n",
       "    }\n",
       "\n",
       "    .dataframe thead th {\n",
       "        text-align: right;\n",
       "    }\n",
       "</style>\n",
       "<table border=\"1\" class=\"dataframe\">\n",
       "  <thead>\n",
       "    <tr style=\"text-align: right;\">\n",
       "      <th></th>\n",
       "      <th>title</th>\n",
       "      <th>votes</th>\n",
       "      <th>link</th>\n",
       "    </tr>\n",
       "  </thead>\n",
       "  <tbody>\n",
       "    <tr>\n",
       "      <th>380</th>\n",
       "      <td>Recall — Summarize Anything, Forget Nothing</td>\n",
       "      <td>4346</td>\n",
       "      <td>https://www.producthunt.com/products/products/...</td>\n",
       "    </tr>\n",
       "    <tr>\n",
       "      <th>243</th>\n",
       "      <td>Kombai — The AI Agent Built for Frontend Devel...</td>\n",
       "      <td>2957</td>\n",
       "      <td>https://www.producthunt.com/products/products/...</td>\n",
       "    </tr>\n",
       "    <tr>\n",
       "      <th>91</th>\n",
       "      <td>Trickle — Build stunning AI Apps, Websites, an...</td>\n",
       "      <td>2753</td>\n",
       "      <td>https://www.producthunt.com/products/products/...</td>\n",
       "    </tr>\n",
       "    <tr>\n",
       "      <th>50</th>\n",
       "      <td>Jupitrr AI — ✨ AI video maker that generates B...</td>\n",
       "      <td>2026</td>\n",
       "      <td>https://www.producthunt.com/products/products/...</td>\n",
       "    </tr>\n",
       "    <tr>\n",
       "      <th>407</th>\n",
       "      <td>Motiff — Design Tool for AI Era</td>\n",
       "      <td>1639</td>\n",
       "      <td>https://www.producthunt.com/products/products/...</td>\n",
       "    </tr>\n",
       "    <tr>\n",
       "      <th>...</th>\n",
       "      <td>...</td>\n",
       "      <td>...</td>\n",
       "      <td>...</td>\n",
       "    </tr>\n",
       "    <tr>\n",
       "      <th>400</th>\n",
       "      <td>Letterly — All-in-one newsletter repurposing tool</td>\n",
       "      <td>0</td>\n",
       "      <td>https://www.producthunt.com/products/products/...</td>\n",
       "    </tr>\n",
       "    <tr>\n",
       "      <th>399</th>\n",
       "      <td>Zenher — Femtech</td>\n",
       "      <td>0</td>\n",
       "      <td>https://www.producthunt.com/products/products/...</td>\n",
       "    </tr>\n",
       "    <tr>\n",
       "      <th>394</th>\n",
       "      <td>CodeBench — Write once, import everywhere - Yo...</td>\n",
       "      <td>0</td>\n",
       "      <td>https://www.producthunt.com/products/products/...</td>\n",
       "    </tr>\n",
       "    <tr>\n",
       "      <th>406</th>\n",
       "      <td>CesarQA — Bridge the gap between Design &amp; Code</td>\n",
       "      <td>0</td>\n",
       "      <td>https://www.producthunt.com/products/products/...</td>\n",
       "    </tr>\n",
       "    <tr>\n",
       "      <th>2</th>\n",
       "      <td>Sportily — Horse racing analytics with machine...</td>\n",
       "      <td>0</td>\n",
       "      <td>https://www.producthunt.com/products/products/...</td>\n",
       "    </tr>\n",
       "  </tbody>\n",
       "</table>\n",
       "<p>436 rows × 3 columns</p>\n",
       "</div>"
      ],
      "text/plain": [
       "                                                 title  votes  \\\n",
       "380        Recall — Summarize Anything, Forget Nothing   4346   \n",
       "243  Kombai — The AI Agent Built for Frontend Devel...   2957   \n",
       "91   Trickle — Build stunning AI Apps, Websites, an...   2753   \n",
       "50   Jupitrr AI — ✨ AI video maker that generates B...   2026   \n",
       "407                    Motiff — Design Tool for AI Era   1639   \n",
       "..                                                 ...    ...   \n",
       "400  Letterly — All-in-one newsletter repurposing tool      0   \n",
       "399                                   Zenher — Femtech      0   \n",
       "394  CodeBench — Write once, import everywhere - Yo...      0   \n",
       "406     CesarQA — Bridge the gap between Design & Code      0   \n",
       "2    Sportily — Horse racing analytics with machine...      0   \n",
       "\n",
       "                                                  link  \n",
       "380  https://www.producthunt.com/products/products/...  \n",
       "243  https://www.producthunt.com/products/products/...  \n",
       "91   https://www.producthunt.com/products/products/...  \n",
       "50   https://www.producthunt.com/products/products/...  \n",
       "407  https://www.producthunt.com/products/products/...  \n",
       "..                                                 ...  \n",
       "400  https://www.producthunt.com/products/products/...  \n",
       "399  https://www.producthunt.com/products/products/...  \n",
       "394  https://www.producthunt.com/products/products/...  \n",
       "406  https://www.producthunt.com/products/products/...  \n",
       "2    https://www.producthunt.com/products/products/...  \n",
       "\n",
       "[436 rows x 3 columns]"
      ]
     },
     "execution_count": 43,
     "metadata": {},
     "output_type": "execute_result"
    }
   ],
   "source": [
    "df_final"
   ]
  },
  {
   "cell_type": "code",
   "execution_count": null,
   "id": "d97aa21e",
   "metadata": {},
   "outputs": [],
   "source": []
  }
 ],
 "metadata": {
  "kernelspec": {
   "display_name": "venv",
   "language": "python",
   "name": "python3"
  },
  "language_info": {
   "codemirror_mode": {
    "name": "ipython",
    "version": 3
   },
   "file_extension": ".py",
   "mimetype": "text/x-python",
   "name": "python",
   "nbconvert_exporter": "python",
   "pygments_lexer": "ipython3",
   "version": "3.10.18"
  }
 },
 "nbformat": 4,
 "nbformat_minor": 5
}
